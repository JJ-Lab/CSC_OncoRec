{
 "cells": [
  {
   "cell_type": "code",
   "execution_count": 1,
   "metadata": {},
   "outputs": [
    {
     "name": "stderr",
     "output_type": "stream",
     "text": [
      "C:\\Users\\juanm\\anaconda3\\lib\\site-packages\\pandas\\core\\computation\\expressions.py:20: UserWarning: Pandas requires version '2.7.3' or newer of 'numexpr' (version '2.7.1' currently installed).\n",
      "  from pandas.core.computation.check import NUMEXPR_INSTALLED\n"
     ]
    }
   ],
   "source": [
    "import numpy as np\n",
    "import math\n",
    "import operator\n",
    "import pandas as pd\n",
    "import os\n",
    "import time\n",
    "from datetime import datetime\n",
    "from time import mktime\n",
    "\n",
    "import matplotlib\n",
    "import matplotlib.pyplot as plt\n",
    "\n",
    "from matplotlib import style\n",
    "# style.use('dark_background')\n",
    "style.use('ggplot')\n",
    "import seaborn as sns\n",
    "\n",
    "#import re\n",
    "#import urllib\n",
    "#path = \"/home/juanma/Datos/owncloud_UPM/programacion/python/marcadores\"\n",
    "#url = \"https://community.watsonanalytics.com/wp-content/uploads/2015/04/WA_Fn-UseC_-Sales-Win-Loss.csv\"\n",
    "#sales_data = pd.read_csv(url)\n",
    "#data = pd.read_csv(\"iris.csv\")\n",
    "# data = pd.read_excel('Data/Datos_Clave_Colon_days_clean_jmp.xlsm', header=0)\n",
    "# df_data = pd.read_excel('Data/COMPLETO4.xlsx')"
   ]
  },
  {
   "cell_type": "code",
   "execution_count": 2,
   "metadata": {},
   "outputs": [],
   "source": [
    "df_recaid = pd.read_excel('cito_histo_cohort_tiempos_recae_FJD_HRC_HCR_crop.xlsx')"
   ]
  },
  {
   "cell_type": "code",
   "execution_count": 3,
   "metadata": {},
   "outputs": [
    {
     "data": {
      "text/plain": [
       "Index(['Unnamed: 0', 'CODIGO PACIENTE', 'FECHA MUESTRA', 'FECHA DX 1L',\n",
       "       'FECHA DX 2L', 'T', 'N', 'M', 'porcentaje_BCRP1', 'porcentaje_AC133',\n",
       "       'porcentaje_CD133', 'porcentaje_LGR5', 'porcentaje_CD34',\n",
       "       'porcentaje_EPCAM', 'porcentaje_CD166', 'porcentaje_CD44V6',\n",
       "       'porcentaje_TROP2', 'porcentaje_CD44', 'T_recaida1', 'T_recaida2',\n",
       "       'T_hasta_recaida', 'T_desde_recaida', 'recae?', 'cohort'],\n",
       "      dtype='object')"
      ]
     },
     "execution_count": 3,
     "metadata": {},
     "output_type": "execute_result"
    }
   ],
   "source": [
    "df_recaid.columns"
   ]
  },
  {
   "cell_type": "code",
   "execution_count": 41,
   "metadata": {},
   "outputs": [],
   "source": [
    "df_recaid.rename(columns={'Unnamed: 0': 'CODIGO MUESTRA'}, inplace=True)"
   ]
  },
  {
   "cell_type": "code",
   "execution_count": 42,
   "metadata": {},
   "outputs": [],
   "source": [
    "df_recaid.set_index('CODIGO MUESTRA',drop=False, inplace=True)"
   ]
  },
  {
   "cell_type": "code",
   "execution_count": 43,
   "metadata": {},
   "outputs": [],
   "source": [
    "cols_markers= ['porcentaje_BCRP1', 'porcentaje_AC133', 'porcentaje_CD133', 'porcentaje_LGR5',\n",
    "       'porcentaje_CD34', 'porcentaje_CD166',  'porcentaje_EPCAM', 'porcentaje_TROP2','porcentaje_CD44V6', ]"
   ]
  },
  {
   "cell_type": "code",
   "execution_count": 44,
   "metadata": {},
   "outputs": [],
   "source": [
    "cols_HC = ['T', 'N', 'M', 'recae?']"
   ]
  },
  {
   "cell_type": "code",
   "execution_count": 45,
   "metadata": {},
   "outputs": [],
   "source": [
    "cols_dt = ['T_hasta_recaida', 'T_desde_recaida']"
   ]
  },
  {
   "cell_type": "code",
   "execution_count": 46,
   "metadata": {},
   "outputs": [
    {
     "name": "stdout",
     "output_type": "stream",
     "text": [
      "['porcentaje_BCRP1', 'porcentaje_AC133', 'porcentaje_CD133', 'porcentaje_LGR5', 'porcentaje_CD34', 'porcentaje_CD166', 'porcentaje_EPCAM', 'porcentaje_TROP2', 'porcentaje_CD44V6', 'T', 'N', 'M', 'recae?']\n"
     ]
    }
   ],
   "source": [
    "columns = cols_markers + cols_HC # en otros archivos 'Unnamed: 0' es 'id_muestra'\n",
    "print(columns)"
   ]
  },
  {
   "cell_type": "code",
   "execution_count": 47,
   "metadata": {},
   "outputs": [],
   "source": [
    "df_data_hist = df_recaid[columns].copy()"
   ]
  },
  {
   "cell_type": "code",
   "execution_count": 48,
   "metadata": {},
   "outputs": [
    {
     "data": {
      "text/html": [
       "<div>\n",
       "<style scoped>\n",
       "    .dataframe tbody tr th:only-of-type {\n",
       "        vertical-align: middle;\n",
       "    }\n",
       "\n",
       "    .dataframe tbody tr th {\n",
       "        vertical-align: top;\n",
       "    }\n",
       "\n",
       "    .dataframe thead th {\n",
       "        text-align: right;\n",
       "    }\n",
       "</style>\n",
       "<table border=\"1\" class=\"dataframe\">\n",
       "  <thead>\n",
       "    <tr style=\"text-align: right;\">\n",
       "      <th></th>\n",
       "      <th>porcentaje_BCRP1</th>\n",
       "      <th>porcentaje_AC133</th>\n",
       "      <th>porcentaje_CD133</th>\n",
       "      <th>porcentaje_LGR5</th>\n",
       "      <th>porcentaje_CD34</th>\n",
       "      <th>porcentaje_CD166</th>\n",
       "      <th>porcentaje_EPCAM</th>\n",
       "      <th>porcentaje_TROP2</th>\n",
       "      <th>porcentaje_CD44V6</th>\n",
       "      <th>T</th>\n",
       "      <th>N</th>\n",
       "      <th>M</th>\n",
       "      <th>recae?</th>\n",
       "    </tr>\n",
       "    <tr>\n",
       "      <th>CODIGO MUESTRA</th>\n",
       "      <th></th>\n",
       "      <th></th>\n",
       "      <th></th>\n",
       "      <th></th>\n",
       "      <th></th>\n",
       "      <th></th>\n",
       "      <th></th>\n",
       "      <th></th>\n",
       "      <th></th>\n",
       "      <th></th>\n",
       "      <th></th>\n",
       "      <th></th>\n",
       "      <th></th>\n",
       "    </tr>\n",
       "  </thead>\n",
       "  <tbody>\n",
       "    <tr>\n",
       "      <th>HJD0001</th>\n",
       "      <td>92.839</td>\n",
       "      <td>58.139</td>\n",
       "      <td>63.939</td>\n",
       "      <td>NaN</td>\n",
       "      <td>NaN</td>\n",
       "      <td>NaN</td>\n",
       "      <td>10.80</td>\n",
       "      <td>NaN</td>\n",
       "      <td>NaN</td>\n",
       "      <td>T3</td>\n",
       "      <td>N1</td>\n",
       "      <td>M0</td>\n",
       "      <td>True</td>\n",
       "    </tr>\n",
       "    <tr>\n",
       "      <th>HJD0023</th>\n",
       "      <td>78.500</td>\n",
       "      <td>4.170</td>\n",
       "      <td>23.400</td>\n",
       "      <td>80.00</td>\n",
       "      <td>76.10</td>\n",
       "      <td>15.50</td>\n",
       "      <td>0.00</td>\n",
       "      <td>8.250</td>\n",
       "      <td>86.20</td>\n",
       "      <td>T3</td>\n",
       "      <td>N1</td>\n",
       "      <td>M0</td>\n",
       "      <td>True</td>\n",
       "    </tr>\n",
       "    <tr>\n",
       "      <th>HJD0083</th>\n",
       "      <td>0.098</td>\n",
       "      <td>0.200</td>\n",
       "      <td>0.480</td>\n",
       "      <td>40.10</td>\n",
       "      <td>0.14</td>\n",
       "      <td>0.28</td>\n",
       "      <td>0.14</td>\n",
       "      <td>0.000</td>\n",
       "      <td>0.00</td>\n",
       "      <td>T3</td>\n",
       "      <td>N1</td>\n",
       "      <td>M0</td>\n",
       "      <td>False</td>\n",
       "    </tr>\n",
       "    <tr>\n",
       "      <th>HJD0086</th>\n",
       "      <td>0.000</td>\n",
       "      <td>0.000</td>\n",
       "      <td>0.000</td>\n",
       "      <td>0.23</td>\n",
       "      <td>0.00</td>\n",
       "      <td>1.28</td>\n",
       "      <td>0.00</td>\n",
       "      <td>0.072</td>\n",
       "      <td>1.62</td>\n",
       "      <td>T3</td>\n",
       "      <td>N1</td>\n",
       "      <td>M0</td>\n",
       "      <td>False</td>\n",
       "    </tr>\n",
       "    <tr>\n",
       "      <th>HJD0002</th>\n",
       "      <td>99.200</td>\n",
       "      <td>52.600</td>\n",
       "      <td>56.800</td>\n",
       "      <td>NaN</td>\n",
       "      <td>NaN</td>\n",
       "      <td>NaN</td>\n",
       "      <td>6.43</td>\n",
       "      <td>NaN</td>\n",
       "      <td>NaN</td>\n",
       "      <td>T3</td>\n",
       "      <td>N1</td>\n",
       "      <td>M0</td>\n",
       "      <td>False</td>\n",
       "    </tr>\n",
       "  </tbody>\n",
       "</table>\n",
       "</div>"
      ],
      "text/plain": [
       "                porcentaje_BCRP1  porcentaje_AC133  porcentaje_CD133  \\\n",
       "CODIGO MUESTRA                                                         \n",
       "HJD0001                   92.839            58.139            63.939   \n",
       "HJD0023                   78.500             4.170            23.400   \n",
       "HJD0083                    0.098             0.200             0.480   \n",
       "HJD0086                    0.000             0.000             0.000   \n",
       "HJD0002                   99.200            52.600            56.800   \n",
       "\n",
       "                porcentaje_LGR5  porcentaje_CD34  porcentaje_CD166  \\\n",
       "CODIGO MUESTRA                                                       \n",
       "HJD0001                     NaN              NaN               NaN   \n",
       "HJD0023                   80.00            76.10             15.50   \n",
       "HJD0083                   40.10             0.14              0.28   \n",
       "HJD0086                    0.23             0.00              1.28   \n",
       "HJD0002                     NaN              NaN               NaN   \n",
       "\n",
       "                porcentaje_EPCAM  porcentaje_TROP2  porcentaje_CD44V6   T   N  \\\n",
       "CODIGO MUESTRA                                                                  \n",
       "HJD0001                    10.80               NaN                NaN  T3  N1   \n",
       "HJD0023                     0.00             8.250              86.20  T3  N1   \n",
       "HJD0083                     0.14             0.000               0.00  T3  N1   \n",
       "HJD0086                     0.00             0.072               1.62  T3  N1   \n",
       "HJD0002                     6.43               NaN                NaN  T3  N1   \n",
       "\n",
       "                 M  recae?  \n",
       "CODIGO MUESTRA              \n",
       "HJD0001         M0    True  \n",
       "HJD0023         M0    True  \n",
       "HJD0083         M0   False  \n",
       "HJD0086         M0   False  \n",
       "HJD0002         M0   False  "
      ]
     },
     "execution_count": 48,
     "metadata": {},
     "output_type": "execute_result"
    }
   ],
   "source": [
    "df_data_hist.head()"
   ]
  },
  {
   "cell_type": "code",
   "execution_count": 25,
   "metadata": {
    "scrolled": true
   },
   "outputs": [
    {
     "data": {
      "text/html": [
       "<div>\n",
       "<style scoped>\n",
       "    .dataframe tbody tr th:only-of-type {\n",
       "        vertical-align: middle;\n",
       "    }\n",
       "\n",
       "    .dataframe tbody tr th {\n",
       "        vertical-align: top;\n",
       "    }\n",
       "\n",
       "    .dataframe thead th {\n",
       "        text-align: right;\n",
       "    }\n",
       "</style>\n",
       "<table border=\"1\" class=\"dataframe\">\n",
       "  <thead>\n",
       "    <tr style=\"text-align: right;\">\n",
       "      <th></th>\n",
       "      <th>porcentaje_BCRP1</th>\n",
       "      <th>porcentaje_AC133</th>\n",
       "      <th>porcentaje_CD133</th>\n",
       "      <th>porcentaje_LGR5</th>\n",
       "      <th>porcentaje_CD34</th>\n",
       "      <th>porcentaje_CD166</th>\n",
       "      <th>porcentaje_EPCAM</th>\n",
       "      <th>porcentaje_TROP2</th>\n",
       "      <th>porcentaje_CD44V6</th>\n",
       "      <th>T</th>\n",
       "      <th>N</th>\n",
       "      <th>M</th>\n",
       "      <th>recae?</th>\n",
       "    </tr>\n",
       "    <tr>\n",
       "      <th>CODIGO MUESTRA</th>\n",
       "      <th></th>\n",
       "      <th></th>\n",
       "      <th></th>\n",
       "      <th></th>\n",
       "      <th></th>\n",
       "      <th></th>\n",
       "      <th></th>\n",
       "      <th></th>\n",
       "      <th></th>\n",
       "      <th></th>\n",
       "      <th></th>\n",
       "      <th></th>\n",
       "      <th></th>\n",
       "    </tr>\n",
       "  </thead>\n",
       "  <tbody>\n",
       "    <tr>\n",
       "      <th>HJD0001</th>\n",
       "      <td>92.839</td>\n",
       "      <td>58.139</td>\n",
       "      <td>63.939</td>\n",
       "      <td>NaN</td>\n",
       "      <td>NaN</td>\n",
       "      <td>NaN</td>\n",
       "      <td>10.80</td>\n",
       "      <td>NaN</td>\n",
       "      <td>NaN</td>\n",
       "      <td>T3</td>\n",
       "      <td>N1</td>\n",
       "      <td>M0</td>\n",
       "      <td>True</td>\n",
       "    </tr>\n",
       "    <tr>\n",
       "      <th>HJD0023</th>\n",
       "      <td>78.500</td>\n",
       "      <td>4.170</td>\n",
       "      <td>23.400</td>\n",
       "      <td>80.00</td>\n",
       "      <td>76.10</td>\n",
       "      <td>15.50</td>\n",
       "      <td>0.00</td>\n",
       "      <td>8.250</td>\n",
       "      <td>86.20</td>\n",
       "      <td>T3</td>\n",
       "      <td>N1</td>\n",
       "      <td>M0</td>\n",
       "      <td>True</td>\n",
       "    </tr>\n",
       "    <tr>\n",
       "      <th>HJD0083</th>\n",
       "      <td>0.098</td>\n",
       "      <td>0.200</td>\n",
       "      <td>0.480</td>\n",
       "      <td>40.10</td>\n",
       "      <td>0.14</td>\n",
       "      <td>0.28</td>\n",
       "      <td>0.14</td>\n",
       "      <td>0.000</td>\n",
       "      <td>0.00</td>\n",
       "      <td>T3</td>\n",
       "      <td>N1</td>\n",
       "      <td>M0</td>\n",
       "      <td>False</td>\n",
       "    </tr>\n",
       "    <tr>\n",
       "      <th>HJD0086</th>\n",
       "      <td>0.000</td>\n",
       "      <td>0.000</td>\n",
       "      <td>0.000</td>\n",
       "      <td>0.23</td>\n",
       "      <td>0.00</td>\n",
       "      <td>1.28</td>\n",
       "      <td>0.00</td>\n",
       "      <td>0.072</td>\n",
       "      <td>1.62</td>\n",
       "      <td>T3</td>\n",
       "      <td>N1</td>\n",
       "      <td>M0</td>\n",
       "      <td>False</td>\n",
       "    </tr>\n",
       "    <tr>\n",
       "      <th>HJD0002</th>\n",
       "      <td>99.200</td>\n",
       "      <td>52.600</td>\n",
       "      <td>56.800</td>\n",
       "      <td>NaN</td>\n",
       "      <td>NaN</td>\n",
       "      <td>NaN</td>\n",
       "      <td>6.43</td>\n",
       "      <td>NaN</td>\n",
       "      <td>NaN</td>\n",
       "      <td>T3</td>\n",
       "      <td>N1</td>\n",
       "      <td>M0</td>\n",
       "      <td>False</td>\n",
       "    </tr>\n",
       "  </tbody>\n",
       "</table>\n",
       "</div>"
      ],
      "text/plain": [
       "                porcentaje_BCRP1  porcentaje_AC133  porcentaje_CD133  \\\n",
       "CODIGO MUESTRA                                                         \n",
       "HJD0001                   92.839            58.139            63.939   \n",
       "HJD0023                   78.500             4.170            23.400   \n",
       "HJD0083                    0.098             0.200             0.480   \n",
       "HJD0086                    0.000             0.000             0.000   \n",
       "HJD0002                   99.200            52.600            56.800   \n",
       "\n",
       "                porcentaje_LGR5  porcentaje_CD34  porcentaje_CD166  \\\n",
       "CODIGO MUESTRA                                                       \n",
       "HJD0001                     NaN              NaN               NaN   \n",
       "HJD0023                   80.00            76.10             15.50   \n",
       "HJD0083                   40.10             0.14              0.28   \n",
       "HJD0086                    0.23             0.00              1.28   \n",
       "HJD0002                     NaN              NaN               NaN   \n",
       "\n",
       "                porcentaje_EPCAM  porcentaje_TROP2  porcentaje_CD44V6   T   N  \\\n",
       "CODIGO MUESTRA                                                                  \n",
       "HJD0001                    10.80               NaN                NaN  T3  N1   \n",
       "HJD0023                     0.00             8.250              86.20  T3  N1   \n",
       "HJD0083                     0.14             0.000               0.00  T3  N1   \n",
       "HJD0086                     0.00             0.072               1.62  T3  N1   \n",
       "HJD0002                     6.43               NaN                NaN  T3  N1   \n",
       "\n",
       "                 M  recae?  \n",
       "CODIGO MUESTRA              \n",
       "HJD0001         M0    True  \n",
       "HJD0023         M0    True  \n",
       "HJD0083         M0   False  \n",
       "HJD0086         M0   False  \n",
       "HJD0002         M0   False  "
      ]
     },
     "execution_count": 25,
     "metadata": {},
     "output_type": "execute_result"
    }
   ],
   "source": [
    "df_data_hist.head()"
   ]
  },
  {
   "cell_type": "markdown",
   "metadata": {},
   "source": [
    "Vamos a ver cuántos \"NaN\" tiene cada columna para ver si hay que quitar alguna"
   ]
  },
  {
   "cell_type": "code",
   "execution_count": 10,
   "metadata": {},
   "outputs": [
    {
     "name": "stdout",
     "output_type": "stream",
     "text": [
      "CODIGO MUESTRA        0\n",
      "porcentaje_BCRP1      0\n",
      "porcentaje_AC133      0\n",
      "porcentaje_CD133      3\n",
      "porcentaje_LGR5       8\n",
      "porcentaje_CD34       7\n",
      "porcentaje_CD166     16\n",
      "porcentaje_EPCAM      3\n",
      "porcentaje_TROP2     21\n",
      "porcentaje_CD44V6     6\n",
      "recae?                0\n",
      "dtype: int64\n"
     ]
    }
   ],
   "source": [
    "print(df_data_hist.isnull().sum())"
   ]
  },
  {
   "cell_type": "markdown",
   "metadata": {},
   "source": [
    "## Quito \"CD36\" y \"RAGE\" porque tienen más de 75 NaN !!!!"
   ]
  },
  {
   "cell_type": "code",
   "execution_count": 26,
   "metadata": {},
   "outputs": [],
   "source": [
    "cols_markers2= ['porcentaje_BCRP1',\n",
    "       'porcentaje_AC133', 'porcentaje_CD133', 'porcentaje_LGR5',\n",
    "       'porcentaje_CD34', 'porcentaje_CD166',\n",
    "       'porcentaje_EPCAM', 'porcentaje_TROP2', 'porcentaje_CD44V6'] #### quito  'porcentaje_DCLK1',"
   ]
  },
  {
   "cell_type": "code",
   "execution_count": 36,
   "metadata": {},
   "outputs": [
    {
     "data": {
      "text/html": [
       "<div>\n",
       "<style scoped>\n",
       "    .dataframe tbody tr th:only-of-type {\n",
       "        vertical-align: middle;\n",
       "    }\n",
       "\n",
       "    .dataframe tbody tr th {\n",
       "        vertical-align: top;\n",
       "    }\n",
       "\n",
       "    .dataframe thead th {\n",
       "        text-align: right;\n",
       "    }\n",
       "</style>\n",
       "<table border=\"1\" class=\"dataframe\">\n",
       "  <thead>\n",
       "    <tr style=\"text-align: right;\">\n",
       "      <th></th>\n",
       "      <th>porcentaje_BCRP1</th>\n",
       "      <th>porcentaje_AC133</th>\n",
       "      <th>porcentaje_CD133</th>\n",
       "      <th>porcentaje_LGR5</th>\n",
       "      <th>porcentaje_CD34</th>\n",
       "      <th>porcentaje_CD166</th>\n",
       "      <th>porcentaje_EPCAM</th>\n",
       "      <th>porcentaje_TROP2</th>\n",
       "      <th>porcentaje_CD44V6</th>\n",
       "    </tr>\n",
       "    <tr>\n",
       "      <th>CODIGO MUESTRA</th>\n",
       "      <th></th>\n",
       "      <th></th>\n",
       "      <th></th>\n",
       "      <th></th>\n",
       "      <th></th>\n",
       "      <th></th>\n",
       "      <th></th>\n",
       "      <th></th>\n",
       "      <th></th>\n",
       "    </tr>\n",
       "  </thead>\n",
       "  <tbody>\n",
       "    <tr>\n",
       "      <th>HJD0001</th>\n",
       "      <td>92.839</td>\n",
       "      <td>58.139</td>\n",
       "      <td>63.939</td>\n",
       "      <td>NaN</td>\n",
       "      <td>NaN</td>\n",
       "      <td>NaN</td>\n",
       "      <td>10.80</td>\n",
       "      <td>NaN</td>\n",
       "      <td>NaN</td>\n",
       "    </tr>\n",
       "    <tr>\n",
       "      <th>HJD0023</th>\n",
       "      <td>78.500</td>\n",
       "      <td>4.170</td>\n",
       "      <td>23.400</td>\n",
       "      <td>80.00</td>\n",
       "      <td>76.10</td>\n",
       "      <td>15.50</td>\n",
       "      <td>0.00</td>\n",
       "      <td>8.250</td>\n",
       "      <td>86.20</td>\n",
       "    </tr>\n",
       "    <tr>\n",
       "      <th>HJD0083</th>\n",
       "      <td>0.098</td>\n",
       "      <td>0.200</td>\n",
       "      <td>0.480</td>\n",
       "      <td>40.10</td>\n",
       "      <td>0.14</td>\n",
       "      <td>0.28</td>\n",
       "      <td>0.14</td>\n",
       "      <td>0.000</td>\n",
       "      <td>0.00</td>\n",
       "    </tr>\n",
       "    <tr>\n",
       "      <th>HJD0086</th>\n",
       "      <td>0.000</td>\n",
       "      <td>0.000</td>\n",
       "      <td>0.000</td>\n",
       "      <td>0.23</td>\n",
       "      <td>0.00</td>\n",
       "      <td>1.28</td>\n",
       "      <td>0.00</td>\n",
       "      <td>0.072</td>\n",
       "      <td>1.62</td>\n",
       "    </tr>\n",
       "    <tr>\n",
       "      <th>HJD0002</th>\n",
       "      <td>99.200</td>\n",
       "      <td>52.600</td>\n",
       "      <td>56.800</td>\n",
       "      <td>NaN</td>\n",
       "      <td>NaN</td>\n",
       "      <td>NaN</td>\n",
       "      <td>6.43</td>\n",
       "      <td>NaN</td>\n",
       "      <td>NaN</td>\n",
       "    </tr>\n",
       "  </tbody>\n",
       "</table>\n",
       "</div>"
      ],
      "text/plain": [
       "                porcentaje_BCRP1  porcentaje_AC133  porcentaje_CD133  \\\n",
       "CODIGO MUESTRA                                                         \n",
       "HJD0001                   92.839            58.139            63.939   \n",
       "HJD0023                   78.500             4.170            23.400   \n",
       "HJD0083                    0.098             0.200             0.480   \n",
       "HJD0086                    0.000             0.000             0.000   \n",
       "HJD0002                   99.200            52.600            56.800   \n",
       "\n",
       "                porcentaje_LGR5  porcentaje_CD34  porcentaje_CD166  \\\n",
       "CODIGO MUESTRA                                                       \n",
       "HJD0001                     NaN              NaN               NaN   \n",
       "HJD0023                   80.00            76.10             15.50   \n",
       "HJD0083                   40.10             0.14              0.28   \n",
       "HJD0086                    0.23             0.00              1.28   \n",
       "HJD0002                     NaN              NaN               NaN   \n",
       "\n",
       "                porcentaje_EPCAM  porcentaje_TROP2  porcentaje_CD44V6  \n",
       "CODIGO MUESTRA                                                         \n",
       "HJD0001                    10.80               NaN                NaN  \n",
       "HJD0023                     0.00             8.250              86.20  \n",
       "HJD0083                     0.14             0.000               0.00  \n",
       "HJD0086                     0.00             0.072               1.62  \n",
       "HJD0002                     6.43               NaN                NaN  "
      ]
     },
     "execution_count": 36,
     "metadata": {},
     "output_type": "execute_result"
    }
   ],
   "source": [
    "df2 = df_data_hist[ cols_markers ].copy()  ### 'Unnamed: 0'  es 'id_muestra'\n",
    "df2.head()"
   ]
  },
  {
   "cell_type": "code",
   "execution_count": 37,
   "metadata": {},
   "outputs": [],
   "source": [
    "df2.dropna(axis=0, inplace=True)"
   ]
  },
  {
   "cell_type": "code",
   "execution_count": 38,
   "metadata": {},
   "outputs": [
    {
     "name": "stdout",
     "output_type": "stream",
     "text": [
      "porcentaje_BCRP1     0\n",
      "porcentaje_AC133     0\n",
      "porcentaje_CD133     0\n",
      "porcentaje_LGR5      0\n",
      "porcentaje_CD34      0\n",
      "porcentaje_CD166     0\n",
      "porcentaje_EPCAM     0\n",
      "porcentaje_TROP2     0\n",
      "porcentaje_CD44V6    0\n",
      "dtype: int64\n"
     ]
    }
   ],
   "source": [
    "print(df2.isnull().sum())"
   ]
  },
  {
   "cell_type": "markdown",
   "metadata": {},
   "source": [
    "### Eliminar filas para probar"
   ]
  },
  {
   "cell_type": "code",
   "execution_count": null,
   "metadata": {},
   "outputs": [],
   "source": [
    "df3 = df2.copy()"
   ]
  },
  {
   "cell_type": "code",
   "execution_count": null,
   "metadata": {},
   "outputs": [],
   "source": [
    "df3.head()"
   ]
  },
  {
   "cell_type": "markdown",
   "metadata": {},
   "source": [
    "### Elimino por número de fila"
   ]
  },
  {
   "cell_type": "code",
   "execution_count": null,
   "metadata": {},
   "outputs": [],
   "source": [
    "df3.drop(df3.index[1], axis=0, inplace=True)\n",
    "df3.head()"
   ]
  },
  {
   "cell_type": "code",
   "execution_count": null,
   "metadata": {},
   "outputs": [],
   "source": []
  },
  {
   "cell_type": "markdown",
   "metadata": {},
   "source": [
    "### Elimino por valor en una columna"
   ]
  },
  {
   "cell_type": "code",
   "execution_count": null,
   "metadata": {},
   "outputs": [],
   "source": [
    "df3.drop(df3[df3['Unnamed: 0']=='HJD0064'].index, axis=0, inplace=True)\n",
    "df3.head()"
   ]
  },
  {
   "cell_type": "code",
   "execution_count": null,
   "metadata": {},
   "outputs": [],
   "source": [
    "# df2.to_excel('cito_histo_cohort_recae_FJD_HRC_HCR_crop_sin_NaN.xlsx')"
   ]
  },
  {
   "cell_type": "code",
   "execution_count": null,
   "metadata": {},
   "outputs": [],
   "source": [
    "#################\n",
    "### Ejecutar solo si se ha quitado alguna fila para probar\n",
    "\n",
    "df2 = df3.copy()\n",
    "################"
   ]
  },
  {
   "cell_type": "code",
   "execution_count": null,
   "metadata": {},
   "outputs": [],
   "source": []
  },
  {
   "cell_type": "markdown",
   "metadata": {},
   "source": [
    "## Calculamos correlaciones"
   ]
  },
  {
   "cell_type": "code",
   "execution_count": 55,
   "metadata": {},
   "outputs": [
    {
     "data": {
      "text/plain": [
       "Index(['CODIGO MUESTRA', 'CODIGO PACIENTE', 'FECHA MUESTRA', 'FECHA DX 1L',\n",
       "       'FECHA DX 2L', 'T', 'N', 'M', 'porcentaje_BCRP1', 'porcentaje_AC133',\n",
       "       'porcentaje_CD133', 'porcentaje_LGR5', 'porcentaje_CD34',\n",
       "       'porcentaje_EPCAM', 'porcentaje_CD166', 'porcentaje_CD44V6',\n",
       "       'porcentaje_TROP2', 'porcentaje_CD44', 'T_recaida1', 'T_recaida2',\n",
       "       'T_hasta_recaida', 'T_desde_recaida', 'recae?', 'cohort'],\n",
       "      dtype='object')"
      ]
     },
     "execution_count": 55,
     "metadata": {},
     "output_type": "execute_result"
    }
   ],
   "source": [
    "df_recaid.columns"
   ]
  },
  {
   "cell_type": "code",
   "execution_count": 56,
   "metadata": {},
   "outputs": [
    {
     "name": "stdout",
     "output_type": "stream",
     "text": [
      "['porcentaje_BCRP1', 'porcentaje_AC133', 'porcentaje_CD133', 'porcentaje_LGR5', 'porcentaje_CD34', 'porcentaje_CD166', 'porcentaje_EPCAM', 'porcentaje_TROP2', 'porcentaje_CD44V6', 'T_hasta_recaida', 'T_desde_recaida']\n"
     ]
    }
   ],
   "source": [
    "cols_mark_dt = cols_markers2 + cols_dt\n",
    "print(cols_mark_dt)"
   ]
  },
  {
   "cell_type": "code",
   "execution_count": 57,
   "metadata": {},
   "outputs": [
    {
     "data": {
      "text/html": [
       "<div>\n",
       "<style scoped>\n",
       "    .dataframe tbody tr th:only-of-type {\n",
       "        vertical-align: middle;\n",
       "    }\n",
       "\n",
       "    .dataframe tbody tr th {\n",
       "        vertical-align: top;\n",
       "    }\n",
       "\n",
       "    .dataframe thead th {\n",
       "        text-align: right;\n",
       "    }\n",
       "</style>\n",
       "<table border=\"1\" class=\"dataframe\">\n",
       "  <thead>\n",
       "    <tr style=\"text-align: right;\">\n",
       "      <th></th>\n",
       "      <th>porcentaje_BCRP1</th>\n",
       "      <th>porcentaje_AC133</th>\n",
       "      <th>porcentaje_CD133</th>\n",
       "      <th>porcentaje_LGR5</th>\n",
       "      <th>porcentaje_CD34</th>\n",
       "      <th>porcentaje_CD166</th>\n",
       "      <th>porcentaje_EPCAM</th>\n",
       "      <th>porcentaje_TROP2</th>\n",
       "      <th>porcentaje_CD44V6</th>\n",
       "      <th>T_hasta_recaida</th>\n",
       "      <th>T_desde_recaida</th>\n",
       "    </tr>\n",
       "    <tr>\n",
       "      <th>CODIGO MUESTRA</th>\n",
       "      <th></th>\n",
       "      <th></th>\n",
       "      <th></th>\n",
       "      <th></th>\n",
       "      <th></th>\n",
       "      <th></th>\n",
       "      <th></th>\n",
       "      <th></th>\n",
       "      <th></th>\n",
       "      <th></th>\n",
       "      <th></th>\n",
       "    </tr>\n",
       "  </thead>\n",
       "  <tbody>\n",
       "    <tr>\n",
       "      <th>HJD0001</th>\n",
       "      <td>92.839</td>\n",
       "      <td>58.139</td>\n",
       "      <td>63.939</td>\n",
       "      <td>NaN</td>\n",
       "      <td>NaN</td>\n",
       "      <td>NaN</td>\n",
       "      <td>10.80</td>\n",
       "      <td>NaN</td>\n",
       "      <td>NaN</td>\n",
       "      <td>352.0</td>\n",
       "      <td>NaN</td>\n",
       "    </tr>\n",
       "    <tr>\n",
       "      <th>HJD0023</th>\n",
       "      <td>78.500</td>\n",
       "      <td>4.170</td>\n",
       "      <td>23.400</td>\n",
       "      <td>80.00</td>\n",
       "      <td>76.10</td>\n",
       "      <td>15.50</td>\n",
       "      <td>0.00</td>\n",
       "      <td>8.250</td>\n",
       "      <td>86.20</td>\n",
       "      <td>234.0</td>\n",
       "      <td>NaN</td>\n",
       "    </tr>\n",
       "    <tr>\n",
       "      <th>HJD0083</th>\n",
       "      <td>0.098</td>\n",
       "      <td>0.200</td>\n",
       "      <td>0.480</td>\n",
       "      <td>40.10</td>\n",
       "      <td>0.14</td>\n",
       "      <td>0.28</td>\n",
       "      <td>0.14</td>\n",
       "      <td>0.000</td>\n",
       "      <td>0.00</td>\n",
       "      <td>NaN</td>\n",
       "      <td>4.0</td>\n",
       "    </tr>\n",
       "    <tr>\n",
       "      <th>HJD0086</th>\n",
       "      <td>0.000</td>\n",
       "      <td>0.000</td>\n",
       "      <td>0.000</td>\n",
       "      <td>0.23</td>\n",
       "      <td>0.00</td>\n",
       "      <td>1.28</td>\n",
       "      <td>0.00</td>\n",
       "      <td>0.072</td>\n",
       "      <td>1.62</td>\n",
       "      <td>NaN</td>\n",
       "      <td>18.0</td>\n",
       "    </tr>\n",
       "    <tr>\n",
       "      <th>HJD0002</th>\n",
       "      <td>99.200</td>\n",
       "      <td>52.600</td>\n",
       "      <td>56.800</td>\n",
       "      <td>NaN</td>\n",
       "      <td>NaN</td>\n",
       "      <td>NaN</td>\n",
       "      <td>6.43</td>\n",
       "      <td>NaN</td>\n",
       "      <td>NaN</td>\n",
       "      <td>NaN</td>\n",
       "      <td>NaN</td>\n",
       "    </tr>\n",
       "  </tbody>\n",
       "</table>\n",
       "</div>"
      ],
      "text/plain": [
       "                porcentaje_BCRP1  porcentaje_AC133  porcentaje_CD133  \\\n",
       "CODIGO MUESTRA                                                         \n",
       "HJD0001                   92.839            58.139            63.939   \n",
       "HJD0023                   78.500             4.170            23.400   \n",
       "HJD0083                    0.098             0.200             0.480   \n",
       "HJD0086                    0.000             0.000             0.000   \n",
       "HJD0002                   99.200            52.600            56.800   \n",
       "\n",
       "                porcentaje_LGR5  porcentaje_CD34  porcentaje_CD166  \\\n",
       "CODIGO MUESTRA                                                       \n",
       "HJD0001                     NaN              NaN               NaN   \n",
       "HJD0023                   80.00            76.10             15.50   \n",
       "HJD0083                   40.10             0.14              0.28   \n",
       "HJD0086                    0.23             0.00              1.28   \n",
       "HJD0002                     NaN              NaN               NaN   \n",
       "\n",
       "                porcentaje_EPCAM  porcentaje_TROP2  porcentaje_CD44V6  \\\n",
       "CODIGO MUESTRA                                                          \n",
       "HJD0001                    10.80               NaN                NaN   \n",
       "HJD0023                     0.00             8.250              86.20   \n",
       "HJD0083                     0.14             0.000               0.00   \n",
       "HJD0086                     0.00             0.072               1.62   \n",
       "HJD0002                     6.43               NaN                NaN   \n",
       "\n",
       "                T_hasta_recaida  T_desde_recaida  \n",
       "CODIGO MUESTRA                                    \n",
       "HJD0001                   352.0              NaN  \n",
       "HJD0023                   234.0              NaN  \n",
       "HJD0083                     NaN              4.0  \n",
       "HJD0086                     NaN             18.0  \n",
       "HJD0002                     NaN              NaN  "
      ]
     },
     "execution_count": 57,
     "metadata": {},
     "output_type": "execute_result"
    }
   ],
   "source": [
    "df2 = df_recaid[ cols_mark_dt ].copy()  ### 'Unnamed: 0'  es 'id_muestra'\n",
    "df2.head()"
   ]
  },
  {
   "cell_type": "code",
   "execution_count": 58,
   "metadata": {
    "scrolled": true
   },
   "outputs": [
    {
     "data": {
      "text/html": [
       "<div>\n",
       "<style scoped>\n",
       "    .dataframe tbody tr th:only-of-type {\n",
       "        vertical-align: middle;\n",
       "    }\n",
       "\n",
       "    .dataframe tbody tr th {\n",
       "        vertical-align: top;\n",
       "    }\n",
       "\n",
       "    .dataframe thead th {\n",
       "        text-align: right;\n",
       "    }\n",
       "</style>\n",
       "<table border=\"1\" class=\"dataframe\">\n",
       "  <thead>\n",
       "    <tr style=\"text-align: right;\">\n",
       "      <th></th>\n",
       "      <th>porcentaje_BCRP1</th>\n",
       "      <th>porcentaje_AC133</th>\n",
       "      <th>porcentaje_CD133</th>\n",
       "      <th>porcentaje_LGR5</th>\n",
       "      <th>porcentaje_CD34</th>\n",
       "      <th>porcentaje_CD166</th>\n",
       "      <th>porcentaje_EPCAM</th>\n",
       "      <th>porcentaje_TROP2</th>\n",
       "      <th>porcentaje_CD44V6</th>\n",
       "      <th>T_hasta_recaida</th>\n",
       "      <th>T_desde_recaida</th>\n",
       "    </tr>\n",
       "    <tr>\n",
       "      <th>CODIGO MUESTRA</th>\n",
       "      <th></th>\n",
       "      <th></th>\n",
       "      <th></th>\n",
       "      <th></th>\n",
       "      <th></th>\n",
       "      <th></th>\n",
       "      <th></th>\n",
       "      <th></th>\n",
       "      <th></th>\n",
       "      <th></th>\n",
       "      <th></th>\n",
       "    </tr>\n",
       "  </thead>\n",
       "  <tbody>\n",
       "    <tr>\n",
       "      <th>HJD0001</th>\n",
       "      <td>92.839</td>\n",
       "      <td>58.139</td>\n",
       "      <td>63.939</td>\n",
       "      <td>NaN</td>\n",
       "      <td>NaN</td>\n",
       "      <td>NaN</td>\n",
       "      <td>10.80</td>\n",
       "      <td>NaN</td>\n",
       "      <td>NaN</td>\n",
       "      <td>352.0</td>\n",
       "      <td>NaN</td>\n",
       "    </tr>\n",
       "    <tr>\n",
       "      <th>HJD0023</th>\n",
       "      <td>78.500</td>\n",
       "      <td>4.170</td>\n",
       "      <td>23.400</td>\n",
       "      <td>80.00</td>\n",
       "      <td>76.10</td>\n",
       "      <td>15.50</td>\n",
       "      <td>0.00</td>\n",
       "      <td>8.250</td>\n",
       "      <td>86.20</td>\n",
       "      <td>234.0</td>\n",
       "      <td>NaN</td>\n",
       "    </tr>\n",
       "    <tr>\n",
       "      <th>HJD0083</th>\n",
       "      <td>0.098</td>\n",
       "      <td>0.200</td>\n",
       "      <td>0.480</td>\n",
       "      <td>40.10</td>\n",
       "      <td>0.14</td>\n",
       "      <td>0.28</td>\n",
       "      <td>0.14</td>\n",
       "      <td>0.000</td>\n",
       "      <td>0.00</td>\n",
       "      <td>NaN</td>\n",
       "      <td>4.0</td>\n",
       "    </tr>\n",
       "    <tr>\n",
       "      <th>HJD0086</th>\n",
       "      <td>0.000</td>\n",
       "      <td>0.000</td>\n",
       "      <td>0.000</td>\n",
       "      <td>0.23</td>\n",
       "      <td>0.00</td>\n",
       "      <td>1.28</td>\n",
       "      <td>0.00</td>\n",
       "      <td>0.072</td>\n",
       "      <td>1.62</td>\n",
       "      <td>NaN</td>\n",
       "      <td>18.0</td>\n",
       "    </tr>\n",
       "    <tr>\n",
       "      <th>HJD0002</th>\n",
       "      <td>99.200</td>\n",
       "      <td>52.600</td>\n",
       "      <td>56.800</td>\n",
       "      <td>NaN</td>\n",
       "      <td>NaN</td>\n",
       "      <td>NaN</td>\n",
       "      <td>6.43</td>\n",
       "      <td>NaN</td>\n",
       "      <td>NaN</td>\n",
       "      <td>NaN</td>\n",
       "      <td>NaN</td>\n",
       "    </tr>\n",
       "  </tbody>\n",
       "</table>\n",
       "</div>"
      ],
      "text/plain": [
       "                porcentaje_BCRP1  porcentaje_AC133  porcentaje_CD133  \\\n",
       "CODIGO MUESTRA                                                         \n",
       "HJD0001                   92.839            58.139            63.939   \n",
       "HJD0023                   78.500             4.170            23.400   \n",
       "HJD0083                    0.098             0.200             0.480   \n",
       "HJD0086                    0.000             0.000             0.000   \n",
       "HJD0002                   99.200            52.600            56.800   \n",
       "\n",
       "                porcentaje_LGR5  porcentaje_CD34  porcentaje_CD166  \\\n",
       "CODIGO MUESTRA                                                       \n",
       "HJD0001                     NaN              NaN               NaN   \n",
       "HJD0023                   80.00            76.10             15.50   \n",
       "HJD0083                   40.10             0.14              0.28   \n",
       "HJD0086                    0.23             0.00              1.28   \n",
       "HJD0002                     NaN              NaN               NaN   \n",
       "\n",
       "                porcentaje_EPCAM  porcentaje_TROP2  porcentaje_CD44V6  \\\n",
       "CODIGO MUESTRA                                                          \n",
       "HJD0001                    10.80               NaN                NaN   \n",
       "HJD0023                     0.00             8.250              86.20   \n",
       "HJD0083                     0.14             0.000               0.00   \n",
       "HJD0086                     0.00             0.072               1.62   \n",
       "HJD0002                     6.43               NaN                NaN   \n",
       "\n",
       "                T_hasta_recaida  T_desde_recaida  \n",
       "CODIGO MUESTRA                                    \n",
       "HJD0001                   352.0              NaN  \n",
       "HJD0023                   234.0              NaN  \n",
       "HJD0083                     NaN              4.0  \n",
       "HJD0086                     NaN             18.0  \n",
       "HJD0002                     NaN              NaN  "
      ]
     },
     "execution_count": 58,
     "metadata": {},
     "output_type": "execute_result"
    }
   ],
   "source": [
    "df2.head()"
   ]
  },
  {
   "cell_type": "code",
   "execution_count": 61,
   "metadata": {},
   "outputs": [
    {
     "data": {
      "text/plain": [
       "<Axes: >"
      ]
     },
     "execution_count": 61,
     "metadata": {},
     "output_type": "execute_result"
    },
    {
     "data": {
      "image/png": "[encoded data removed]",
      "text/plain": [
       "<Figure size 1080x1080 with 2 Axes>"
      ]
     },
     "metadata": {},
     "output_type": "display_data"
    }
   ],
   "source": [
    "cor = df2.corr()\n",
    "plt.figure(figsize=(15,15))\n",
    "sns.heatmap(cor,annot=True)"
   ]
  },
  {
   "cell_type": "code",
   "execution_count": null,
   "metadata": {},
   "outputs": [],
   "source": []
  },
  {
   "cell_type": "code",
   "execution_count": null,
   "metadata": {},
   "outputs": [],
   "source": []
  },
  {
   "cell_type": "code",
   "execution_count": null,
   "metadata": {},
   "outputs": [],
   "source": []
  },
  {
   "cell_type": "code",
   "execution_count": null,
   "metadata": {},
   "outputs": [],
   "source": []
  },
  {
   "cell_type": "code",
   "execution_count": null,
   "metadata": {},
   "outputs": [],
   "source": []
  },
  {
   "cell_type": "code",
   "execution_count": null,
   "metadata": {},
   "outputs": [],
   "source": []
  },
  {
   "cell_type": "code",
   "execution_count": null,
   "metadata": {},
   "outputs": [],
   "source": []
  },
  {
   "cell_type": "code",
   "execution_count": null,
   "metadata": {},
   "outputs": [],
   "source": []
  },
  {
   "cell_type": "code",
   "execution_count": null,
   "metadata": {},
   "outputs": [],
   "source": []
  },
  {
   "cell_type": "code",
   "execution_count": null,
   "metadata": {},
   "outputs": [],
   "source": []
  }
 ],
 "metadata": {
  "kernelspec": {
   "display_name": "Python 3",
   "language": "python",
   "name": "python3"
  },
  "language_info": {
   "codemirror_mode": {
    "name": "ipython",
    "version": 3
   },
   "file_extension": ".py",
   "mimetype": "text/x-python",
   "name": "python",
   "nbconvert_exporter": "python",
   "pygments_lexer": "ipython3",
   "version": "3.8.5"
  }
 },
 "nbformat": 4,
 "nbformat_minor": 2
}
